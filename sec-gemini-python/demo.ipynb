{
 "cells": [
  {
   "cell_type": "markdown",
   "id": "7e7b3bd6",
   "metadata": {},
   "source": [
    "# Sec-Gemini Python SDK demo notebook\n",
    "\n",
    "This notebook demonstrates how to use the Sec-Gemini Python SDK to interact with the Sec-Gemini API."
   ]
  },
  {
   "cell_type": "code",
   "execution_count": 4,
   "id": "e7b12576",
   "metadata": {},
   "outputs": [
    {
     "name": "stdout",
     "output_type": "stream",
     "text": [
      "The autoreload extension is already loaded. To reload it, use:\n",
      "  %reload_ext autoreload\n"
     ]
    }
   ],
   "source": [
    "%load_ext autoreload\n",
    "%autoreload 2\n",
    "\n",
    "from secgemini import SecGemini"
   ]
  },
  {
   "cell_type": "markdown",
   "id": "52c20606",
   "metadata": {},
   "source": [
    "## initialization\n",
    "\n",
    "the API key is usually loaded for the SG_API_KEY environment variable but you can pass it directly to the client\n",
    "\n",
    "```python\n",
    "from sec_gemini import SecGemini\n",
    "client = SecGemini(api_key=\"your_api_key\")\n",
    "```\n"
   ]
  },
  {
   "cell_type": "code",
   "execution_count": 5,
   "id": "28524185",
   "metadata": {},
   "outputs": [
    {
     "data": {
      "text/html": [
       "<pre style=\"white-space:pre;overflow-x:auto;line-height:normal;font-family:Menlo,'DejaVu Sans Mono',consolas,'Courier New',monospace\"><span style=\"font-style: italic\">                    User Information                    </span>\n",
       "╭──────────────────────┬───────────────────────────────╮\n",
       "│<span style=\"font-weight: bold\"> Attribute            </span>│<span style=\"font-weight: bold\"> Value                         </span>│\n",
       "├──────────────────────┼───────────────────────────────┤\n",
       "│<span style=\"color: #7f7f7f; text-decoration-color: #7f7f7f\"> Type                 </span>│ user                          │\n",
       "│<span style=\"color: #7f7f7f; text-decoration-color: #7f7f7f\"> User ID              </span>│ dev-neverlog@secgemini.google │\n",
       "│<span style=\"color: #7f7f7f; text-decoration-color: #7f7f7f\"> Organization ID      </span>│ google:p9                     │\n",
       "│<span style=\"color: #7f7f7f; text-decoration-color: #7f7f7f\"> Never log?           </span>│ True                          │\n",
       "│<span style=\"color: #7f7f7f; text-decoration-color: #7f7f7f\"> Key Expiration Time  </span>│ Never                         │\n",
       "│<span style=\"color: #7f7f7f; text-decoration-color: #7f7f7f\"> Can disable session  </span>│ False                         │\n",
       "│<span style=\"color: #7f7f7f; text-decoration-color: #7f7f7f\"> logging?             </span>│                               │\n",
       "│<span style=\"color: #7f7f7f; text-decoration-color: #7f7f7f\"> Cam use experimental </span>│ False                         │\n",
       "│<span style=\"color: #7f7f7f; text-decoration-color: #7f7f7f\"> features?            </span>│                               │\n",
       "│<span style=\"color: #7f7f7f; text-decoration-color: #7f7f7f\"> TPM Quota            </span>│ 400000                        │\n",
       "│<span style=\"color: #7f7f7f; text-decoration-color: #7f7f7f\"> RPM Quota            </span>│ 100                           │\n",
       "╰──────────────────────┴───────────────────────────────╯\n",
       "</pre>\n"
      ],
      "text/plain": [
       "\u001b[3m                    User Information                    \u001b[0m\n",
       "╭──────────────────────┬───────────────────────────────╮\n",
       "│\u001b[1m \u001b[0m\u001b[1mAttribute           \u001b[0m\u001b[1m \u001b[0m│\u001b[1m \u001b[0m\u001b[1mValue                        \u001b[0m\u001b[1m \u001b[0m│\n",
       "├──────────────────────┼───────────────────────────────┤\n",
       "│\u001b[2m \u001b[0m\u001b[2mType                \u001b[0m\u001b[2m \u001b[0m│ user                          │\n",
       "│\u001b[2m \u001b[0m\u001b[2mUser ID             \u001b[0m\u001b[2m \u001b[0m│ dev-neverlog@secgemini.google │\n",
       "│\u001b[2m \u001b[0m\u001b[2mOrganization ID     \u001b[0m\u001b[2m \u001b[0m│ google:p9                     │\n",
       "│\u001b[2m \u001b[0m\u001b[2mNever log?          \u001b[0m\u001b[2m \u001b[0m│ True                          │\n",
       "│\u001b[2m \u001b[0m\u001b[2mKey Expiration Time \u001b[0m\u001b[2m \u001b[0m│ Never                         │\n",
       "│\u001b[2m \u001b[0m\u001b[2mCan disable session \u001b[0m\u001b[2m \u001b[0m│ False                         │\n",
       "│\u001b[2m \u001b[0m\u001b[2mlogging?            \u001b[0m\u001b[2m \u001b[0m│                               │\n",
       "│\u001b[2m \u001b[0m\u001b[2mCam use experimental\u001b[0m\u001b[2m \u001b[0m│ False                         │\n",
       "│\u001b[2m \u001b[0m\u001b[2mfeatures?           \u001b[0m\u001b[2m \u001b[0m│                               │\n",
       "│\u001b[2m \u001b[0m\u001b[2mTPM Quota           \u001b[0m\u001b[2m \u001b[0m│ 400000                        │\n",
       "│\u001b[2m \u001b[0m\u001b[2mRPM Quota           \u001b[0m\u001b[2m \u001b[0m│ 100                           │\n",
       "╰──────────────────────┴───────────────────────────────╯\n"
      ]
     },
     "metadata": {},
     "output_type": "display_data"
    },
    {
     "data": {
      "text/html": [
       "<pre style=\"white-space:pre;overflow-x:auto;line-height:normal;font-family:Menlo,'DejaVu Sans Mono',consolas,'Courier New',monospace\"><span style=\"font-style: italic\">                                                                                                          sec-gemini-1.1-stable                                                                                                           </span>\n",
       "╭───────────────┬────────────┬─────────┬──────────┬───────────┬───────────────┬──────────────────────────────────────────────────────────────────────────────────────────────────────────────────────────────────────────────────────────╮\n",
       "│<span style=\"font-weight: bold\"> Agent         </span>│<span style=\"font-weight: bold\"> Vendor     </span>│<span style=\"font-weight: bold\"> Version </span>│<span style=\"font-weight: bold\"> Enabled? </span>│<span style=\"font-weight: bold\"> Optional? </span>│<span style=\"font-weight: bold\"> Experimental? </span>│<span style=\"font-weight: bold\"> Description                                                                                                                                              </span>│\n",
       "├───────────────┼────────────┼─────────┼──────────┼───────────┼───────────────┼──────────────────────────────────────────────────────────────────────────────────────────────────────────────────────────────────────────────────────────┤\n",
       "│ orchestrator  │ Sec-Gemini │ 1       │ True     │ False     │ False         │ Sec-Gemini main orchestrator.                                                                                                                            │\n",
       "│ network_agent │ Sec-Gemini │ 1       │ True     │ True      │ False         │ You are an agent specialized in network security including network diagonistics, network configuration, network forensics, and network traffic analysis. │\n",
       "╰───────────────┴────────────┴─────────┴──────────┴───────────┴───────────────┴──────────────────────────────────────────────────────────────────────────────────────────────────────────────────────────────────────────────────────────╯\n",
       "</pre>\n"
      ],
      "text/plain": [
       "\u001b[3m                                                                                                          sec-gemini-1.1-stable                                                                                                           \u001b[0m\n",
       "╭───────────────┬────────────┬─────────┬──────────┬───────────┬───────────────┬──────────────────────────────────────────────────────────────────────────────────────────────────────────────────────────────────────────────────────────╮\n",
       "│\u001b[1m \u001b[0m\u001b[1mAgent        \u001b[0m\u001b[1m \u001b[0m│\u001b[1m \u001b[0m\u001b[1mVendor    \u001b[0m\u001b[1m \u001b[0m│\u001b[1m \u001b[0m\u001b[1mVersion\u001b[0m\u001b[1m \u001b[0m│\u001b[1m \u001b[0m\u001b[1mEnabled?\u001b[0m\u001b[1m \u001b[0m│\u001b[1m \u001b[0m\u001b[1mOptional?\u001b[0m\u001b[1m \u001b[0m│\u001b[1m \u001b[0m\u001b[1mExperimental?\u001b[0m\u001b[1m \u001b[0m│\u001b[1m \u001b[0m\u001b[1mDescription                                                                                                                                             \u001b[0m\u001b[1m \u001b[0m│\n",
       "├───────────────┼────────────┼─────────┼──────────┼───────────┼───────────────┼──────────────────────────────────────────────────────────────────────────────────────────────────────────────────────────────────────────────────────────┤\n",
       "│ orchestrator  │ Sec-Gemini │ 1       │ True     │ False     │ False         │ Sec-Gemini main orchestrator.                                                                                                                            │\n",
       "│ network_agent │ Sec-Gemini │ 1       │ True     │ True      │ False         │ You are an agent specialized in network security including network diagonistics, network configuration, network forensics, and network traffic analysis. │\n",
       "╰───────────────┴────────────┴─────────┴──────────┴───────────┴───────────────┴──────────────────────────────────────────────────────────────────────────────────────────────────────────────────────────────────────────────────────────╯\n"
      ]
     },
     "metadata": {},
     "output_type": "display_data"
    },
    {
     "data": {
      "text/html": [
       "<pre style=\"white-space:pre;overflow-x:auto;line-height:normal;font-family:Menlo,'DejaVu Sans Mono',consolas,'Courier New',monospace\"><span style=\"font-style: italic\">                                                                   Sessions                                                                   </span>\n",
       "╭──────────────────────────────────┬─────────────┬─────────────────┬───────┬────────┬──────────────────────┬──────────────────────┬──────────╮\n",
       "│<span style=\"font-weight: bold\">                                  </span>│<span style=\"font-weight: bold\">             </span>│<span style=\"font-weight: bold\">                 </span>│<span style=\"font-weight: bold\">       </span>│<span style=\"font-weight: bold\">        </span>│<span style=\"font-weight: bold\">                      </span>│<span style=\"font-weight: bold\">                      </span>│<span style=\"font-weight: bold\"> TTL      </span>│\n",
       "│<span style=\"font-weight: bold\"> ID / Name                        </span>│<span style=\"font-weight: bold\"> Description </span>│<span style=\"font-weight: bold\"> State           </span>│<span style=\"font-weight: bold\"> #Msg  </span>│<span style=\"font-weight: bold\"> #Files </span>│<span style=\"font-weight: bold\"> Created              </span>│<span style=\"font-weight: bold\"> Updated              </span>│<span style=\"font-weight: bold\"> (sec)    </span>│\n",
       "├──────────────────────────────────┼─────────────┼─────────────────┼───────┼────────┼──────────────────────┼──────────────────────┼──────────┤\n",
       "│<span style=\"color: #7f7f7f; text-decoration-color: #7f7f7f\"> </span><span style=\"color: #7f7fbf; text-decoration-color: #7f7fbf; font-weight: bold\">d68f816474984c4284b87345255705c3</span><span style=\"color: #7f7f7f; text-decoration-color: #7f7f7f\"> </span>│             │ start           │ 1     │ 0      │ 2025-05-04 01:33:42  │ 2025-05-04 01:33:42  │ 259200   │\n",
       "│<span style=\"color: #7f7f7f; text-decoration-color: #7f7f7f\"> young-dsa                        </span>│             │                 │       │        │                      │                      │          │\n",
       "╰──────────────────────────────────┴─────────────┴─────────────────┴───────┴────────┴──────────────────────┴──────────────────────┴──────────╯\n",
       "</pre>\n"
      ],
      "text/plain": [
       "\u001b[3m                                                                   Sessions                                                                   \u001b[0m\n",
       "╭──────────────────────────────────┬─────────────┬─────────────────┬───────┬────────┬──────────────────────┬──────────────────────┬──────────╮\n",
       "│\u001b[1m                                  \u001b[0m│\u001b[1m             \u001b[0m│\u001b[1m                 \u001b[0m│\u001b[1m       \u001b[0m│\u001b[1m        \u001b[0m│\u001b[1m                      \u001b[0m│\u001b[1m                      \u001b[0m│\u001b[1m \u001b[0m\u001b[1mTTL     \u001b[0m\u001b[1m \u001b[0m│\n",
       "│\u001b[1m \u001b[0m\u001b[1mID / Name                       \u001b[0m\u001b[1m \u001b[0m│\u001b[1m \u001b[0m\u001b[1mDescription\u001b[0m\u001b[1m \u001b[0m│\u001b[1m \u001b[0m\u001b[1mState          \u001b[0m\u001b[1m \u001b[0m│\u001b[1m \u001b[0m\u001b[1m#Msg \u001b[0m\u001b[1m \u001b[0m│\u001b[1m \u001b[0m\u001b[1m#Files\u001b[0m\u001b[1m \u001b[0m│\u001b[1m \u001b[0m\u001b[1mCreated             \u001b[0m\u001b[1m \u001b[0m│\u001b[1m \u001b[0m\u001b[1mUpdated             \u001b[0m\u001b[1m \u001b[0m│\u001b[1m \u001b[0m\u001b[1m(sec)   \u001b[0m\u001b[1m \u001b[0m│\n",
       "├──────────────────────────────────┼─────────────┼─────────────────┼───────┼────────┼──────────────────────┼──────────────────────┼──────────┤\n",
       "│\u001b[2m \u001b[0m\u001b[1;2;34md68f816474984c4284b87345255705c3\u001b[0m\u001b[2m \u001b[0m│             │ start           │ 1     │ 0      │ 2025-05-04 01:33:42  │ 2025-05-04 01:33:42  │ 259200   │\n",
       "│\u001b[2m \u001b[0m\u001b[2myoung-dsa                       \u001b[0m\u001b[2m \u001b[0m│             │                 │       │        │                      │                      │          │\n",
       "╰──────────────────────────────────┴─────────────┴─────────────────┴───────┴────────┴──────────────────────┴──────────────────────┴──────────╯\n"
      ]
     },
     "metadata": {},
     "output_type": "display_data"
    }
   ],
   "source": [
    "# sg = SecGemini()\n",
    "\n",
    "# alternative way to test local server\n",
    "# BASE_URL = 'http://localhost:8000'\n",
    "# WSS_URL = 'ws://localhost:8000'\n",
    "# sg = SecGemini(base_url=BASE_URL, base_websockets_url=WSS_URL)\n",
    "\n",
    "# normal way to connect to the main server\n",
    "sg = SecGemini()\n",
    "sg.display_info()   # show current user info"
   ]
  },
  {
   "cell_type": "markdown",
   "id": "92be7712",
   "metadata": {},
   "source": [
    "## Basic Usage\n",
    "\n",
    "The basic worflow involves:\n",
    "1. **Create a client**: This is the main entry point to the SDK. It handles authentication and provides methods to interact with the API as demonstrated above.\n",
    "\n",
    "2. **Create a session**: Having resumable sessions allows to have multiples workflows running in parallel that can be resumed on a different machine. Each session has its own state and can be used to send and receive messages independently.\n",
    "\n",
    "3. **Query the model**: The model can be queried using the `query` method. **Warning** This is the simplest way to query Sec-Gemini but also the most inefficient. It is recommended to use the streaming API for real-time bi-directional communication. See example below.\n"
   ]
  },
  {
   "cell_type": "code",
   "execution_count": 6,
   "id": "eb546317",
   "metadata": {},
   "outputs": [
    {
     "name": "stdout",
     "output_type": "stream",
     "text": [
      "The IPv4 addresses (A records) for google.com are: 142.250.125.113, 142.250.125.100, 142.250.125.138, 142.250.125.102, 142.250.125.139, and 142.250.125.101.\n",
      "\n",
      "The IPv6 addresses (AAAA records) for google.com are: 2607:f8b0:4001:c2f::65, 2607:f8b0:4001:c2f::8b, 2607:f8b0:4001:c2f::66, and 2607:f8b0:4001:c2f::8a.\n",
      " \n",
      "\n",
      " ## Sec-Gemini execution flow\n",
      " | State               | Actor         | Message Type       | Content                                                                                              |\n",
      "|---------------------|---------------|--------------------|------------------------------------------------------------------------------------------------------|\n",
      "| State.CALLING_TOOL  | orchestrator  | MessageType.INFO   | Calling Transfer To Agent                                                                            |\n",
      "| State.CALLING_TOOL  | orchestrator  | MessageType.DEBUG  | {\"id\": \"adk-b33cfdbb-4258-43ed-bf51-5d0ee7fa448f\", \"args\": {\"agent_name\": \"network_agent\"}, \"name\":  |\n",
      "| State.RUNNING_AGENT | orchestrator  | MessageType.INFO   | Executing network_agent                                                                              |\n",
      "| State.CALLING_TOOL  | network_agent | MessageType.INFO   | Calling Lookup Dns Record                                                                            |\n",
      "| State.CALLING_TOOL  | network_agent | MessageType.DEBUG  | {\"id\": \"adk-de024521-2871-4a60-ac4f-ca6c0ac23ece\", \"args\": {\"domain\": \"google.com\", \"record_type\": \" |\n",
      "| State.CALLING_TOOL  | network_agent | MessageType.INFO   | Calling Lookup Dns Record                                                                            |\n",
      "| State.CALLING_TOOL  | network_agent | MessageType.DEBUG  | {\"id\": \"adk-85ef795f-365e-4b1c-93e8-d0d8191b0e07\", \"args\": {\"domain\": \"google.com\", \"record_type\": \" |\n",
      "| State.TOOL_RESULT   | network_agent | MessageType.INFO   | Processing Lookup Dns Record result                                                                  |\n",
      "| State.TOOL_RESULT   | network_agent | MessageType.DEBUG  | {\"id\": \"adk-de024521-2871-4a60-ac4f-ca6c0ac23ece\", \"name\": \"lookup_dns_record\", \"response\": {\"result |\n",
      "| State.TOOL_RESULT   | network_agent | MessageType.INFO   | Processing Lookup Dns Record result                                                                  |\n",
      "| State.TOOL_RESULT   | network_agent | MessageType.DEBUG  | {\"id\": \"adk-85ef795f-365e-4b1c-93e8-d0d8191b0e07\", \"name\": \"lookup_dns_record\", \"response\": {\"result |\n",
      "| State.AGENT_DONE    | network_agent | MessageType.RESULT | The IPv4 addresses (A records) for google.com are: 142.250.125.113, 142.250.125.100, 142.250.125.138 |\n",
      "\n",
      "\n",
      "\n"
     ]
    }
   ],
   "source": [
    "# optionally add name and descriptions. If name is not set, one will be generated\n",
    "\n",
    "# create a new session - add a name and description\n",
    "session = sg.create_session()\n",
    "# Test session works.\n",
    "resp = session.query('What are the IP addresses of google.com?')\n",
    "if resp:\n",
    "    print(resp.text())\n",
    "else:\n",
    "    print('generate failed')\n"
   ]
  },
  {
   "cell_type": "markdown",
   "id": "cdfdf7aa",
   "metadata": {},
   "source": [
    "## accessing session data\n",
    "\n",
    "The SDK take care of auto refreshing the session data at access time. So you can access the latest data by simply accessing the session object properties. See example below on how to display the session messages.\n"
   ]
  },
  {
   "cell_type": "code",
   "execution_count": 22,
   "id": "80f66079",
   "metadata": {},
   "outputs": [
    {
     "name": "stdout",
     "output_type": "stream",
     "text": [
      "MessageType.QUERY: What are the IP addresses of google.com?\n",
      "MessageType.INFO: Calling Transfer To Agent\n",
      "MessageType.INFO: Executing network_agent\n",
      "MessageType.INFO: Calling Lookup Dns Record\n",
      "MessageType.INFO: Calling Lookup Dns Record\n",
      "MessageType.INFO: Processing Lookup Dns Record result\n",
      "MessageType.INFO: Processing Lookup Dns Record result\n",
      "MessageType.RESULT: The IPv4 address for google.com is 142.251.32.46. The IPv6 address for google.com is 2607:f8b0:4005:802::200e.\n",
      "\n"
     ]
    }
   ],
   "source": [
    "# visualize the session messages history is a simple as a for loop\n",
    "for msg in session.messages:\n",
    "    print(f\"{msg.message_type}: {msg.get_content()}\")"
   ]
  },
  {
   "cell_type": "markdown",
   "id": "67630f55",
   "metadata": {},
   "source": [
    "## Listing available sessions"
   ]
  },
  {
   "cell_type": "code",
   "execution_count": 23,
   "id": "88c5fe0a",
   "metadata": {},
   "outputs": [
    {
     "data": {
      "text/html": [
       "<pre style=\"white-space:pre;overflow-x:auto;line-height:normal;font-family:Menlo,'DejaVu Sans Mono',consolas,'Courier New',monospace\"><span style=\"font-style: italic\">                                                                   Sessions                                                                   </span>\n",
       "╭──────────────────────────────────┬─────────────┬─────────────────┬───────┬────────┬──────────────────────┬──────────────────────┬──────────╮\n",
       "│<span style=\"font-weight: bold\">                                  </span>│<span style=\"font-weight: bold\">             </span>│<span style=\"font-weight: bold\">                 </span>│<span style=\"font-weight: bold\">       </span>│<span style=\"font-weight: bold\">        </span>│<span style=\"font-weight: bold\">                      </span>│<span style=\"font-weight: bold\">                      </span>│<span style=\"font-weight: bold\"> TTL      </span>│\n",
       "│<span style=\"font-weight: bold\"> ID / Name                        </span>│<span style=\"font-weight: bold\"> Description </span>│<span style=\"font-weight: bold\"> State           </span>│<span style=\"font-weight: bold\"> #Msg  </span>│<span style=\"font-weight: bold\"> #Files </span>│<span style=\"font-weight: bold\"> Created              </span>│<span style=\"font-weight: bold\"> Updated              </span>│<span style=\"font-weight: bold\"> (sec)    </span>│\n",
       "├──────────────────────────────────┼─────────────┼─────────────────┼───────┼────────┼──────────────────────┼──────────────────────┼──────────┤\n",
       "│<span style=\"color: #7f7f7f; text-decoration-color: #7f7f7f\"> </span><span style=\"color: #7f7fbf; text-decoration-color: #7f7fbf; font-weight: bold\">cece23f2e0574f0b8b5e86e33c0ac63d</span><span style=\"color: #7f7f7f; text-decoration-color: #7f7f7f\"> </span>│             │ agent_done      │ 8     │ 0      │ 2025-05-04 00:57:22  │ 2025-05-04 00:57:22  │ 259200   │\n",
       "│<span style=\"color: #7f7f7f; text-decoration-color: #7f7f7f\"> fearless-dsa                     </span>│             │                 │       │        │                      │                      │          │\n",
       "╰──────────────────────────────────┴─────────────┴─────────────────┴───────┴────────┴──────────────────────┴──────────────────────┴──────────╯\n",
       "</pre>\n"
      ],
      "text/plain": [
       "\u001b[3m                                                                   Sessions                                                                   \u001b[0m\n",
       "╭──────────────────────────────────┬─────────────┬─────────────────┬───────┬────────┬──────────────────────┬──────────────────────┬──────────╮\n",
       "│\u001b[1m                                  \u001b[0m│\u001b[1m             \u001b[0m│\u001b[1m                 \u001b[0m│\u001b[1m       \u001b[0m│\u001b[1m        \u001b[0m│\u001b[1m                      \u001b[0m│\u001b[1m                      \u001b[0m│\u001b[1m \u001b[0m\u001b[1mTTL     \u001b[0m\u001b[1m \u001b[0m│\n",
       "│\u001b[1m \u001b[0m\u001b[1mID / Name                       \u001b[0m\u001b[1m \u001b[0m│\u001b[1m \u001b[0m\u001b[1mDescription\u001b[0m\u001b[1m \u001b[0m│\u001b[1m \u001b[0m\u001b[1mState          \u001b[0m\u001b[1m \u001b[0m│\u001b[1m \u001b[0m\u001b[1m#Msg \u001b[0m\u001b[1m \u001b[0m│\u001b[1m \u001b[0m\u001b[1m#Files\u001b[0m\u001b[1m \u001b[0m│\u001b[1m \u001b[0m\u001b[1mCreated             \u001b[0m\u001b[1m \u001b[0m│\u001b[1m \u001b[0m\u001b[1mUpdated             \u001b[0m\u001b[1m \u001b[0m│\u001b[1m \u001b[0m\u001b[1m(sec)   \u001b[0m\u001b[1m \u001b[0m│\n",
       "├──────────────────────────────────┼─────────────┼─────────────────┼───────┼────────┼──────────────────────┼──────────────────────┼──────────┤\n",
       "│\u001b[2m \u001b[0m\u001b[1;2;34mcece23f2e0574f0b8b5e86e33c0ac63d\u001b[0m\u001b[2m \u001b[0m│             │ agent_done      │ 8     │ 0      │ 2025-05-04 00:57:22  │ 2025-05-04 00:57:22  │ 259200   │\n",
       "│\u001b[2m \u001b[0m\u001b[2mfearless-dsa                    \u001b[0m\u001b[2m \u001b[0m│             │                 │       │        │                      │                      │          │\n",
       "╰──────────────────────────────────┴─────────────┴─────────────────┴───────┴────────┴──────────────────────┴──────────────────────┴──────────╯\n"
      ]
     },
     "metadata": {},
     "output_type": "display_data"
    }
   ],
   "source": [
    "sg.list_sessions()"
   ]
  },
  {
   "cell_type": "code",
   "execution_count": 24,
   "id": "398bcb2e",
   "metadata": {},
   "outputs": [
    {
     "data": {
      "text/html": [
       "<pre style=\"white-space:pre;overflow-x:auto;line-height:normal;font-family:Menlo,'DejaVu Sans Mono',consolas,'Courier New',monospace\"><span style=\"font-style: italic\">                                                                     Sessions                                                                      </span>\n",
       "╭──────────────────────────────────┬──────────────────┬─────────────────┬───────┬────────┬──────────────────────┬──────────────────────┬──────────╮\n",
       "│<span style=\"font-weight: bold\">                                  </span>│<span style=\"font-weight: bold\">                  </span>│<span style=\"font-weight: bold\">                 </span>│<span style=\"font-weight: bold\">       </span>│<span style=\"font-weight: bold\">        </span>│<span style=\"font-weight: bold\">                      </span>│<span style=\"font-weight: bold\">                      </span>│<span style=\"font-weight: bold\"> TTL      </span>│\n",
       "│<span style=\"font-weight: bold\"> ID / Name                        </span>│<span style=\"font-weight: bold\"> Description      </span>│<span style=\"font-weight: bold\"> State           </span>│<span style=\"font-weight: bold\"> #Msg  </span>│<span style=\"font-weight: bold\"> #Files </span>│<span style=\"font-weight: bold\"> Created              </span>│<span style=\"font-weight: bold\"> Updated              </span>│<span style=\"font-weight: bold\"> (sec)    </span>│\n",
       "├──────────────────────────────────┼──────────────────┼─────────────────┼───────┼────────┼──────────────────────┼──────────────────────┼──────────┤\n",
       "│<span style=\"color: #7f7f7f; text-decoration-color: #7f7f7f\"> </span><span style=\"color: #7f7fbf; text-decoration-color: #7f7fbf; font-weight: bold\">cece23f2e0574f0b8b5e86e33c0ac63d</span><span style=\"color: #7f7f7f; text-decoration-color: #7f7f7f\"> </span>│ test_description │ agent_done      │ 8     │ 0      │ 2025-05-04 00:57:22  │ 2025-05-04 00:57:22  │ 4242     │\n",
       "│<span style=\"color: #7f7f7f; text-decoration-color: #7f7f7f\"> test_session                     </span>│                  │                 │       │        │                      │                      │          │\n",
       "╰──────────────────────────────────┴──────────────────┴─────────────────┴───────┴────────┴──────────────────────┴──────────────────────┴──────────╯\n",
       "</pre>\n"
      ],
      "text/plain": [
       "\u001b[3m                                                                     Sessions                                                                      \u001b[0m\n",
       "╭──────────────────────────────────┬──────────────────┬─────────────────┬───────┬────────┬──────────────────────┬──────────────────────┬──────────╮\n",
       "│\u001b[1m                                  \u001b[0m│\u001b[1m                  \u001b[0m│\u001b[1m                 \u001b[0m│\u001b[1m       \u001b[0m│\u001b[1m        \u001b[0m│\u001b[1m                      \u001b[0m│\u001b[1m                      \u001b[0m│\u001b[1m \u001b[0m\u001b[1mTTL     \u001b[0m\u001b[1m \u001b[0m│\n",
       "│\u001b[1m \u001b[0m\u001b[1mID / Name                       \u001b[0m\u001b[1m \u001b[0m│\u001b[1m \u001b[0m\u001b[1mDescription     \u001b[0m\u001b[1m \u001b[0m│\u001b[1m \u001b[0m\u001b[1mState          \u001b[0m\u001b[1m \u001b[0m│\u001b[1m \u001b[0m\u001b[1m#Msg \u001b[0m\u001b[1m \u001b[0m│\u001b[1m \u001b[0m\u001b[1m#Files\u001b[0m\u001b[1m \u001b[0m│\u001b[1m \u001b[0m\u001b[1mCreated             \u001b[0m\u001b[1m \u001b[0m│\u001b[1m \u001b[0m\u001b[1mUpdated             \u001b[0m\u001b[1m \u001b[0m│\u001b[1m \u001b[0m\u001b[1m(sec)   \u001b[0m\u001b[1m \u001b[0m│\n",
       "├──────────────────────────────────┼──────────────────┼─────────────────┼───────┼────────┼──────────────────────┼──────────────────────┼──────────┤\n",
       "│\u001b[2m \u001b[0m\u001b[1;2;34mcece23f2e0574f0b8b5e86e33c0ac63d\u001b[0m\u001b[2m \u001b[0m│ test_description │ agent_done      │ 8     │ 0      │ 2025-05-04 00:57:22  │ 2025-05-04 00:57:22  │ 4242     │\n",
       "│\u001b[2m \u001b[0m\u001b[2mtest_session                    \u001b[0m\u001b[2m \u001b[0m│                  │                 │       │        │                      │                      │          │\n",
       "╰──────────────────────────────────┴──────────────────┴─────────────────┴───────┴────────┴──────────────────────┴──────────────────────┴──────────╯\n"
      ]
     },
     "metadata": {},
     "output_type": "display_data"
    }
   ],
   "source": [
    "## renamin the session\n",
    "session.update(name=\"test_session\", description=\"test_description\", ttl=4242)\n",
    "# session.send_feedback(score=1, comment=\"Great job!\")\n",
    "sg.list_sessions()"
   ]
  },
  {
   "cell_type": "markdown",
   "id": "8b242d53",
   "metadata": {},
   "source": [
    "## Resuming a session\n",
    "The SDK allows to resume a session by simply calling the `resume` method on the session object. This will automatically load the latest session data and allow you to continue the conversation from where you left off. See example below."
   ]
  },
  {
   "cell_type": "code",
   "execution_count": 26,
   "id": "64e38724",
   "metadata": {},
   "outputs": [
    {
     "data": {
      "text/plain": [
       "[Message(id='9ff929c0312b', parent_id='3713', turn='2aa7f345a328', group='83bd18de3a5c41e8a2c2e036d633434d', actor='user', role=<Role.USER: 'user'>, timestamp=1746320242, message_type=<MessageType.QUERY: 'query'>, message_sub_type=None, state=<State.START: 'start'>, content='What are the IP addresses of google.com?', mime_type=<MimeType.TEXT: 'text/plain'>, status_code=200, status_message='OK', usage=Usage(prompt_tokens=0, generated_tokens=0, total_tokens=0) prompt_tokens=0, generated_tokens=0, total_tokens=0)),\n",
       " Message(id='6a8cd1a3fb49', parent_id='3713', turn='138ee40a47b5', group='1bb3b50ca6f2', actor='orchestrator', role=<Role.SYSTEM: 'system'>, timestamp=1746320244, message_type=<MessageType.INFO: 'info'>, message_sub_type=None, state=<State.CALLING_TOOL: 'calling_tool'>, content='Calling Transfer To Agent', mime_type=<MimeType.TEXT: 'text/plain'>, status_code=200, status_message='OK', usage=None),\n",
       " Message(id='5519205b55cd', parent_id='3713', turn='e70c4b51f924', group='c4a15eca9539', actor='orchestrator', role=<Role.SYSTEM: 'system'>, timestamp=1746320244, message_type=<MessageType.INFO: 'info'>, message_sub_type=None, state=<State.RUNNING_AGENT: 'running_agent'>, content='Executing network_agent', mime_type=<MimeType.TEXT: 'text/plain'>, status_code=200, status_message='OK', usage=None),\n",
       " Message(id='e6543394a5dc', parent_id='3713', turn='7dd8844b7c7c', group='8b43132690ba', actor='network_agent', role=<Role.SYSTEM: 'system'>, timestamp=1746320245, message_type=<MessageType.INFO: 'info'>, message_sub_type=None, state=<State.CALLING_TOOL: 'calling_tool'>, content='Calling Lookup Dns Record', mime_type=<MimeType.TEXT: 'text/plain'>, status_code=200, status_message='OK', usage=None),\n",
       " Message(id='fd1ce0329257', parent_id='3713', turn='5a69bac37ed2', group='8b43132690ba', actor='network_agent', role=<Role.SYSTEM: 'system'>, timestamp=1746320245, message_type=<MessageType.INFO: 'info'>, message_sub_type=None, state=<State.CALLING_TOOL: 'calling_tool'>, content='Calling Lookup Dns Record', mime_type=<MimeType.TEXT: 'text/plain'>, status_code=200, status_message='OK', usage=None),\n",
       " Message(id='63d0fa9bf833', parent_id='3713', turn='460772ff0d16', group='ab3102154a29', actor='network_agent', role=<Role.SYSTEM: 'system'>, timestamp=1746320245, message_type=<MessageType.INFO: 'info'>, message_sub_type=None, state=<State.TOOL_RESULT: 'tool_result'>, content='Processing Lookup Dns Record result', mime_type=<MimeType.TEXT: 'text/plain'>, status_code=200, status_message='OK', usage=None),\n",
       " Message(id='e97188a01e45', parent_id='3713', turn='c65d64cde646', group='ab3102154a29', actor='network_agent', role=<Role.SYSTEM: 'system'>, timestamp=1746320245, message_type=<MessageType.INFO: 'info'>, message_sub_type=None, state=<State.TOOL_RESULT: 'tool_result'>, content='Processing Lookup Dns Record result', mime_type=<MimeType.TEXT: 'text/plain'>, status_code=200, status_message='OK', usage=None),\n",
       " Message(id='2cc20c108cb3', parent_id='3713', turn='14232f115802', group='4db1c5543d7b', actor='network_agent', role=<Role.AGENT: 'agent'>, timestamp=1746320247, message_type=<MessageType.RESULT: 'result'>, message_sub_type=None, state=<State.AGENT_DONE: 'agent_done'>, content='The IPv4 address for google.com is 142.251.32.46. The IPv6 address for google.com is 2607:f8b0:4005:802::200e.\\n', mime_type=<MimeType.TEXT: 'text/plain'>, status_code=200, status_message='OK', usage=None)]"
      ]
     },
     "execution_count": 26,
     "metadata": {},
     "output_type": "execute_result"
    }
   ],
   "source": [
    "active_sessions = sg.get_sessions()  # get all active sessions\n",
    "resumed_session = active_sessions[0]  # get the first active session\n",
    "resumed_session.messages\n",
    "# print(active_sessions)"
   ]
  },
  {
   "cell_type": "markdown",
   "id": "4a4f65a1",
   "metadata": {},
   "source": [
    "## Streaming API\n",
    "\n",
    "This is the recommended way to interact with the Sec-Gemini API. It allows for real-time bi-directional communication and is more efficient than the query method. The SDK provides a simple interface to interact with the streaming API. See example below."
   ]
  },
  {
   "cell_type": "code",
   "execution_count": 27,
   "id": "190d9885",
   "metadata": {},
   "outputs": [
    {
     "name": "stdout",
     "output_type": "stream",
     "text": [
      "INFO: Calling Transfer To Agent\n",
      "INFO: Executing network_agent\n",
      "INFO: Calling Lookup Dns Record\n",
      "INFO: Processing Lookup Dns Record result\n",
      "\n",
      "Answer:\n",
      "The IP address of google.com is 142.251.214.142.\n",
      "\n"
     ]
    }
   ],
   "source": [
    "from secgemini import MessageType, MimeType\n",
    "session = sg.create_session()\n",
    "query = \"What is the IP address of google.com?\"\n",
    "\n",
    "async for msg in session.stream(query):\n",
    "    if msg.message_type == MessageType.INFO and msg.mime_type == MimeType.TEXT:\n",
    "        print(f\"INFO: {msg.get_content()}\")\n",
    "    if msg.message_type == MessageType.RESULT and msg.mime_type == MimeType.TEXT:\n",
    "        # result\n",
    "        print(f'\\nAnswer:\\n{msg.get_content()}')\n",
    "        break"
   ]
  }
 ],
 "metadata": {
  "kernelspec": {
   "display_name": ".venv",
   "language": "python",
   "name": "python3"
  },
  "language_info": {
   "codemirror_mode": {
    "name": "ipython",
    "version": 3
   },
   "file_extension": ".py",
   "mimetype": "text/x-python",
   "name": "python",
   "nbconvert_exporter": "python",
   "pygments_lexer": "ipython3",
   "version": "3.12.8"
  }
 },
 "nbformat": 4,
 "nbformat_minor": 5
}
